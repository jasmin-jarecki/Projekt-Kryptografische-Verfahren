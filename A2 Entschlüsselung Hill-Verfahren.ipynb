{
 "cells": [
  {
   "cell_type": "code",
   "execution_count": 1,
   "metadata": {
    "collapsed": true
   },
   "outputs": [],
   "source": [
    "import numpy as np"
   ]
  },
  {
   "cell_type": "code",
   "execution_count": 2,
   "metadata": {},
   "outputs": [
    {
     "name": "stdout",
     "output_type": "stream",
     "text": [
      "[[ 3  8  2]\n",
      " [ 4  6  5]\n",
      " [19 21  4]]\n"
     ]
    }
   ],
   "source": [
    "M = np.array([[3, 8, 2], [4, 6, 5], [19, 21, 4]])       # Schlüsselmatrix M\n",
    "print(M)"
   ]
  },
  {
   "cell_type": "code",
   "execution_count": 26,
   "metadata": {},
   "outputs": [],
   "source": [
    "def Inverse(Matrix):           # Definition für inverse 3x3-Matrix\n",
    "    \n",
    "    det = (M[0,0]*M[1,1]*M[2,2]+M[0,1]*M[1,2]*M[2,0]+M[0,2]*M[1,0]*M[2,1])-(M[0,2]*M[1,1]*M[2,0]+M[0,0]*M[1,2]*M[2,1]+M[0,1]*M[1,0]*M[2,2])\n",
    "    # Determinante von Matrix\n",
    "    \n",
    "    Adj = np.array([[(M[2,2]*M[1,1]-M[1,2]*M[2,1]), -1*(M[0,1]*M[2,2]-M[0,2]*M[2,1]), (M[1,2]*M[0,1]-M[0,2]*M[1,1])],\n",
    "                    [-1*(M[1,0]*M[2,2]-M[1,2]*M[2,0]), (M[0,0]*M[2,2]-M[0,2]*M[2,0]), -1*(M[0,0]*M[1,2]-M[0,2]*M[1,0])],\n",
    "                    [(M[1,0]*M[2,1]-M[1,1]*M[2,0]), -1*(M[0,0]*M[2,1]-M[0,1]*M[2,0]), (M[0,0]*M[1,1]-M[0,1]*M[1,0])]])\n",
    "    # adjunkte Matrix \n",
    "    \n",
    "    Minvers = ((1/det) * Adj)   # Formel für inverse Matrix\n",
    "    \n",
    "    \n",
    "    return Minvers"
   ]
  },
  {
   "cell_type": "code",
   "execution_count": 27,
   "metadata": {},
   "outputs": [
    {
     "name": "stdout",
     "output_type": "stream",
     "text": [
      "[[-0.24620061  0.03039514  0.08510638]\n",
      " [ 0.24012158 -0.07902736 -0.0212766 ]\n",
      " [-0.09118541  0.27051672 -0.04255319]]\n"
     ]
    }
   ],
   "source": [
    "I = Inverse(M)          # Inverse Matrix zu M\n",
    "\n",
    "print(I)"
   ]
  },
  {
   "cell_type": "code",
   "execution_count": 33,
   "metadata": {},
   "outputs": [
    {
     "name": "stdout",
     "output_type": "stream",
     "text": [
      "[[  1.00000000e+00   0.00000000e+00  -1.38777878e-17]\n",
      " [  1.11022302e-16   1.00000000e+00   0.00000000e+00]\n",
      " [  2.77555756e-16   0.00000000e+00   1.00000000e+00]]\n"
     ]
    }
   ],
   "source": [
    "print(np.dot(M, I))   # Test M * I ergibt die Einheitsmatrix"
   ]
  },
  {
   "cell_type": "code",
   "execution_count": 30,
   "metadata": {},
   "outputs": [
    {
     "name": "stdout",
     "output_type": "stream",
     "text": [
      "[[ 25.75379939   0.03039514   0.08510638]\n",
      " [  0.24012158  25.92097264  25.9787234 ]\n",
      " [ 25.90881459   0.27051672  25.95744681]]\n"
     ]
    }
   ],
   "source": [
    "In = I % 26\n",
    "print(In)"
   ]
  },
  {
   "cell_type": "code",
   "execution_count": 34,
   "metadata": {},
   "outputs": [],
   "source": [
    "Alphabet = 'ABCDEFGHIJKLMNOPQRSTUVWXYZ'    # Liste mit Alphabet\n",
    "Lalphabet = list(Alphabet)"
   ]
  },
  {
   "cell_type": "code",
   "execution_count": 35,
   "metadata": {
    "collapsed": true
   },
   "outputs": [],
   "source": [
    "Eingabe = 'WHKPXLMMFQXAGUQ'\n",
    "Leingabe= list(Eingabe)                          # Umwandlung des Eingabestrings zu Liste"
   ]
  },
  {
   "cell_type": "code",
   "execution_count": 36,
   "metadata": {},
   "outputs": [
    {
     "name": "stdout",
     "output_type": "stream",
     "text": [
      "[22, 7, 10, 15, 23, 11, 12, 12, 5, 16, 23, 0, 6, 20, 16]\n"
     ]
    }
   ],
   "source": [
    "L = []\n",
    "for i in range(len(Leingabe)):                   # die Buchstaben der Eingabe werden durch den entsprechenden Index im Alphabet\n",
    "    if Leingabe[i] in Lalphabet:                 # ersetzt und zu neuer Liste hinzugefügt\n",
    "        L.append(Lalphabet.index(Leingabe[i]))\n",
    "    \n",
    "print(L)"
   ]
  },
  {
   "cell_type": "code",
   "execution_count": 38,
   "metadata": {
    "collapsed": true
   },
   "outputs": [],
   "source": [
    "v1 = [[22], [7], [10]]  # Vektoren mit den 'übersetzten' Buchstaben\n",
    "v2 = [[15], [23], [11]]\n",
    "v3 = [[12], [12], [5]]\n",
    "v4 = [[16], [23], [0]]\n",
    "v5 = [[6], [20], [16]]"
   ]
  },
  {
   "cell_type": "code",
   "execution_count": 41,
   "metadata": {},
   "outputs": [
    {
     "name": "stdout",
     "output_type": "stream",
     "text": [
      "[[ 21.64741641]\n",
      " [  4.51671733]\n",
      " [ 25.46200608]]\n",
      "[[ 23.94224924]\n",
      " [  1.55015198]\n",
      " [  4.38601824]]\n",
      "[[ 23.83586626]\n",
      " [  1.82674772]\n",
      " [  1.93920973]]\n",
      "[[ 22.75987842]\n",
      " [  2.02431611]\n",
      " [  4.76291793]]\n",
      "[[  0.49240122]\n",
      " [ 25.51975684]\n",
      " [  4.18237082]]\n"
     ]
    }
   ],
   "source": [
    "print(np.dot(In, v1) % 26)  # Entschlüsselung mit inverser Matrix\n",
    "print(np.dot(In, v2) % 26) \n",
    "print(np.dot(In, v3) % 26)\n",
    "print(np.dot(In, v4) % 26)\n",
    "print(np.dot(In, v5) % 26)"
   ]
  },
  {
   "cell_type": "code",
   "execution_count": 42,
   "metadata": {},
   "outputs": [
    {
     "name": "stdout",
     "output_type": "stream",
     "text": [
      "V E Z X B E X B B W C E A Z E\n"
     ]
    }
   ],
   "source": [
    "print(Lalphabet[21],Lalphabet[4],Lalphabet[25],Lalphabet[23],Lalphabet[1],Lalphabet[4],Lalphabet[23],Lalphabet[1],\n",
    "     Lalphabet[1],Lalphabet[22],Lalphabet[2],Lalphabet[4],Lalphabet[0],Lalphabet[25],Lalphabet[4])\n",
    "\n",
    "# Übersetzung der Zahlen in Buchstaben (Ziffern vor dem Komma)"
   ]
  },
  {
   "cell_type": "code",
   "execution_count": 43,
   "metadata": {},
   "outputs": [
    {
     "name": "stdout",
     "output_type": "stream",
     "text": [
      "W F Z Y C E Y C C X C F A A E\n"
     ]
    }
   ],
   "source": [
    "print(Lalphabet[22],Lalphabet[5],Lalphabet[25],Lalphabet[24],Lalphabet[2],Lalphabet[4],Lalphabet[24],Lalphabet[2],\n",
    "     Lalphabet[2],Lalphabet[23],Lalphabet[2],Lalphabet[5],Lalphabet[0],Lalphabet[0],Lalphabet[4])\n",
    "\n",
    "# Übersetzung der Zahlen in Buchstaben (gerundete Zahlen)"
   ]
  },
  {
   "cell_type": "code",
   "execution_count": 50,
   "metadata": {},
   "outputs": [],
   "source": [
    "def Entschluesselung(Eingabe, M):\n",
    "    \n",
    "    det = (M[0,0]*M[1,1]*M[2,2]+M[0,1]*M[1,2]*M[2,0]+M[0,2]*M[1,0]*M[2,1])-(M[0,2]*M[1,1]*M[2,0]+M[0,0]*M[1,2]*M[2,1]+M[0,1]*M[1,0]*M[2,2])\n",
    "    # Determinante von Matrix\n",
    "    \n",
    "    Adj = np.array([[(M[2,2]*M[1,1]-M[1,2]*M[2,1]), -1*(M[0,1]*M[2,2]-M[0,2]*M[2,1]), (M[1,2]*M[0,1]-M[0,2]*M[1,1])],\n",
    "                    [-1*(M[1,0]*M[2,2]-M[1,2]*M[2,0]), (M[0,0]*M[2,2]-M[0,2]*M[2,0]), -1*(M[0,0]*M[1,2]-M[0,2]*M[1,0])],\n",
    "                    [(M[1,0]*M[2,1]-M[1,1]*M[2,0]), -1*(M[0,0]*M[2,1]-M[0,1]*M[2,0]), (M[0,0]*M[1,1]-M[0,1]*M[1,0])]])\n",
    "    # adjunkte Matrix \n",
    "    \n",
    "    Minvers = ((1/det) * Adj)                     # Formel für inverse Matrix\n",
    "    \n",
    "    Leingabe= list(Eingabe)\n",
    "    \n",
    "    L = []\n",
    "    for i in range(len(Leingabe)):               # die Buchstaben der Eingabe werden durch den entsprechenden Index im Alphabet\n",
    "        if Leingabe[i] in Lalphabet:             # ersetzt und zu neuer Liste hinzugefügt\n",
    "            \n",
    "            L.append(Lalphabet.index(Leingabe[i]))\n",
    "            \n",
    "    v = np.asarray(L)\n",
    "    np.transpose(v)\n",
    "    \n",
    "    i = 0                                              # für die Entschlüsselung aller Buchstaben bzw. Indezes in v\n",
    "    \n",
    "    while i < len(v):                                  # Schleife wird durchlaufen, solange i < Anzahl Elemente in v\n",
    "        \n",
    "        v1 = np.array([[v[i]], [v[i+1]], [v[i+2]]])    # zu entschlüsselnde Vektoren mit drei nacheinander folgenden Elementen\n",
    "                                                       # in v\n",
    "        a = np.dot(Minvers, v1) % 26\n",
    "        print(a)                                       # Ausgabe entschlüsselter Vektor\n",
    "        \n",
    "        i = i+3  \n",
    "        \n",
    "    return 0\n",
    "    \n",
    "            \n",
    "    \n",
    "    \n",
    "    "
   ]
  },
  {
   "cell_type": "code",
   "execution_count": 51,
   "metadata": {},
   "outputs": [
    {
     "name": "stdout",
     "output_type": "stream",
     "text": [
      "[[ 21.64741641]\n",
      " [  4.51671733]\n",
      " [ 25.46200608]]\n",
      "[[ 23.94224924]\n",
      " [  1.55015198]\n",
      " [  4.38601824]]\n",
      "[[ 23.83586626]\n",
      " [  1.82674772]\n",
      " [  1.93920973]]\n",
      "[[ 22.75987842]\n",
      " [  2.02431611]\n",
      " [  4.76291793]]\n",
      "[[  0.49240122]\n",
      " [ 25.51975684]\n",
      " [  4.18237082]]\n",
      "0\n"
     ]
    }
   ],
   "source": [
    "print(Entschluesselung('WHKPXLMMFQXAGUQ', M))  # Ausgegebene Vektoren müssen in Buchstaben umgewandelt werden mit Lalphabet[i]"
   ]
  },
  {
   "cell_type": "code",
   "execution_count": 53,
   "metadata": {},
   "outputs": [
    {
     "name": "stdout",
     "output_type": "stream",
     "text": [
      "[[ 22.18237082]\n",
      " [  3.52583587]\n",
      " [  2.6231003 ]]\n",
      "[[  1.51975684e-02]\n",
      " [  9.60486322e-01]\n",
      " [  2.56352584e+01]]\n",
      "0\n"
     ]
    }
   ],
   "source": [
    "print(Entschluesselung('WTMHET', M))  # die Entschlüsselung müsste 'YELLOW' ergeben"
   ]
  },
  {
   "cell_type": "code",
   "execution_count": 56,
   "metadata": {},
   "outputs": [
    {
     "name": "stdout",
     "output_type": "stream",
     "text": [
      "X E D A B A\n"
     ]
    }
   ],
   "source": [
    "print(Lalphabet[23], Lalphabet[4], Lalphabet[3],Lalphabet[0],Lalphabet[1],Lalphabet[0])"
   ]
  }
 ],
 "metadata": {
  "kernelspec": {
   "display_name": "Python 3",
   "language": "python",
   "name": "python3"
  },
  "language_info": {
   "codemirror_mode": {
    "name": "ipython",
    "version": 3
   },
   "file_extension": ".py",
   "mimetype": "text/x-python",
   "name": "python",
   "nbconvert_exporter": "python",
   "pygments_lexer": "ipython3",
   "version": "3.6.2"
  }
 },
 "nbformat": 4,
 "nbformat_minor": 2
}
