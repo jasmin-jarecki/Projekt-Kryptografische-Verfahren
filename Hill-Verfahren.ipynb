{
 "cells": [
  {
   "cell_type": "code",
   "execution_count": 1,
   "metadata": {
    "collapsed": true
   },
   "outputs": [],
   "source": [
    "import numpy as np"
   ]
  },
  {
   "cell_type": "code",
   "execution_count": 2,
   "metadata": {},
   "outputs": [
    {
     "name": "stdout",
     "output_type": "stream",
     "text": [
      "[[ 3  8  2]\n",
      " [ 4  6  5]\n",
      " [19 21  4]]\n"
     ]
    }
   ],
   "source": [
    "M = np.array([[3, 8, 2], [4, 6, 5], [19, 21, 4]])       # Verschlüsselungsmatrix M\n",
    "print(M)"
   ]
  },
  {
   "cell_type": "code",
   "execution_count": 63,
   "metadata": {},
   "outputs": [],
   "source": [
    "Eingabe = 'pferde'\n",
    "Leingabe= list(Eingabe)                          # Umwandlung des Eingabestrings zu Liste\n",
    "Alphabet = 'abcdefghijklmnopqrstuvwxyz'\n",
    "Lalphabet= list(Alphabet)                        # Umwandlung des Alphabetstrings zu Liste"
   ]
  },
  {
   "cell_type": "code",
   "execution_count": 37,
   "metadata": {},
   "outputs": [
    {
     "name": "stdout",
     "output_type": "stream",
     "text": [
      "[15, 5, 4, 17, 3, 4]\n"
     ]
    },
    {
     "data": {
      "text/plain": [
       "20"
      ]
     },
     "execution_count": 37,
     "metadata": {},
     "output_type": "execute_result"
    }
   ],
   "source": [
    "L = []\n",
    "for i in range(len(Leingabe)):                   # die Buchstaben der Eingabe werden durch den entsprechenden Index im Alphabet\n",
    "    if Leingabe[i] in Lalphabet:                 # ersetzt und zu neuer Liste hinzugefügt\n",
    "        L.append(Lalphabet.index(Leingabe[i]))\n",
    "    \n",
    "print(L)\n",
    "\n",
    "Lalphabet.index('u')\n",
    "\n"
   ]
  },
  {
   "cell_type": "code",
   "execution_count": 40,
   "metadata": {},
   "outputs": [],
   "source": [
    "v = np.asarray(L)                              # Vektor 1xn (n : Anzahl der Buchstaben ) mit den Listenelementen aus L\n",
    "np.transpose(v)                                # v wird zu nx1 Vektor transponiert, nötig für Multiplikation mit M\n",
    "v\n",
    "l = np.array([[15],[5],[4]])                   # 3x1-Vektor mit den den Buchstaben entsprechenden Indezes (erste drei)\n",
    "l2 = np.array([[17], [3], [4]])                # (folgende drei)"
   ]
  },
  {
   "cell_type": "code",
   "execution_count": 41,
   "metadata": {},
   "outputs": [
    {
     "name": "stdout",
     "output_type": "stream",
     "text": [
      "[[15]\n",
      " [ 6]\n",
      " [16]]\n",
      "[[ 5]\n",
      " [ 2]\n",
      " [12]]\n"
     ]
    }
   ],
   "source": [
    "w = np.dot(M,l) % 26                           # w verschlüsselter Vektor, durch Multiplikation mit M modulo 26\n",
    "print(w)\n",
    "w2 = np.dot(M, l2) % 26\n",
    "print(w2)"
   ]
  },
  {
   "cell_type": "code",
   "execution_count": 32,
   "metadata": {},
   "outputs": [],
   "source": [
    "def Verschluesselung1(Text, Alphabet, Schluessel = M):   # erste Definition der Verschlüsselungsfunktion, Text kann nur mit je \n",
    "                                                        # drei Buchstaben eingegeben werden\n",
    "    import numpy as np\n",
    "    \n",
    "    K = list(Text)                                      # Textstring wird zu Liste K gemacht, Alphabet-string zu Liste Lalphabet\n",
    "    Lalphabet = list(Alphabet)\n",
    "    \n",
    "    L = []\n",
    "    for i in range(len(K)):                             # den Buchstaben in K werden die entsprechenden Indezes in Lalphabet \n",
    "                                                        # zugeordnet und zur neuen Liste L hinzugefügt\n",
    "        if K[i] in Lalphabet:\n",
    "            L.append(Lalphabet.index(K[i]))\n",
    "    \n",
    "    v = np.asarray(L)                                   # aus L wird 1xn-Vektor v gemacht\n",
    "    np.transpose(v)                                     # v transponiert, sodass v mit M multipliziert werden kann\n",
    "    \n",
    "    v1 = np.array([[v[0]], [v[1]], [v[2]]])             # v muss zu 3x1-Vektor verkürzt werden, v1 enthält erste drei Elemente\n",
    "                                                        # von v \n",
    "    a = np.dot(M, v1) % 26                              # verschlüsselter Vektor aus Multiplikation von M und v1 modulo 26\n",
    "                   \n",
    "    return a                                            # Ausgabe verschlüsselter Vektor a\n",
    "        \n",
    "        "
   ]
  },
  {
   "cell_type": "code",
   "execution_count": 64,
   "metadata": {},
   "outputs": [
    {
     "name": "stdout",
     "output_type": "stream",
     "text": [
      "[[15]\n",
      " [ 6]\n",
      " [16]]\n",
      "None\n"
     ]
    }
   ],
   "source": [
    "print(Verschluesselung1('pferd', Alphabet))              # Beispiel 1 für Verschluesselung, bei beliebig langer Eingabe werden \n",
    "                                                        # nur die ersten drei Buchstaben verschlüsselt ausgegeben"
   ]
  },
  {
   "cell_type": "code",
   "execution_count": 61,
   "metadata": {
    "collapsed": true
   },
   "outputs": [],
   "source": [
    "def Verschluesselung2(Text, Alphabet, Schluessel=M):    # Definition Verschlüsselungsfunktion, Text muss eine durch drei teilbare\n",
    "                                                        # Anzahl an Buchstaben haben\n",
    "    import numpy as np                                  # bis i = 0 wie Verschluesselung1\n",
    "    \n",
    "    K = list(Text)  \n",
    "    Lalphabet = list(Alphabet)\n",
    "    \n",
    "    L = []\n",
    "    for i in range(len(K)):\n",
    "        \n",
    "        if K[i] in Lalphabet:\n",
    "            L.append(Lalphabet.index(K[i]))\n",
    "    \n",
    "    v = np.asarray(L)\n",
    "    np.transpose(v)\n",
    "    \n",
    "    i = 0                                              # für die Verschlüsselung aller Buchstaben bzw. Indezes in v\n",
    "    \n",
    "    while i < len(v):                                  # Schleife wird durchlaufen, solange i < Anzahl Elemente in v\n",
    "        \n",
    "        v1 = np.array([[v[i]], [v[i+1]], [v[i+2]]])    # zu verschlüsselnde Vektoren mit drei nacheinander folgenden Elementen\n",
    "                                                       # in v\n",
    "        a = np.dot(M, v1) % 26\n",
    "        print(a)                                       # Ausgabe verschlüsselter Vektor\n",
    "        \n",
    "        i = i+3                                        # Verschiebung i für die nächsten drei Stellen in v, ist i > len(v)\n",
    "                                                       # wird die Schleife gestoppt, da keine Elemente mehr zu verschlüsseln sind\n",
    "    return 0\n",
    "        \n",
    "    "
   ]
  },
  {
   "cell_type": "code",
   "execution_count": 62,
   "metadata": {},
   "outputs": [
    {
     "name": "stdout",
     "output_type": "stream",
     "text": [
      "[[ 6]\n",
      " [17]\n",
      " [15]]\n",
      "[[0]\n",
      " [4]\n",
      " [1]]\n",
      "[[16]\n",
      " [20]\n",
      " [10]]\n",
      "[[11]\n",
      " [10]\n",
      " [21]]\n",
      "[[21]\n",
      " [ 4]\n",
      " [18]]\n",
      "[[12]\n",
      " [16]\n",
      " [ 7]]\n",
      "[[11]\n",
      " [18]\n",
      " [24]]\n",
      "0\n"
     ]
    }
   ],
   "source": [
    "print(Verschluesselung2('alle voegel sind schon da', Alphabet))  # Beispiel 2 Verschluesselung 2"
   ]
  },
  {
   "cell_type": "code",
   "execution_count": 69,
   "metadata": {},
   "outputs": [
    {
     "name": "stdout",
     "output_type": "stream",
     "text": [
      "[[19]\n",
      " [24]\n",
      " [25]]\n",
      "[[16]\n",
      " [ 7]\n",
      " [ 2]]\n",
      "[[22]\n",
      " [16]\n",
      " [ 7]]\n",
      "[[ 0]\n",
      " [13]\n",
      " [23]]\n",
      "[[14]\n",
      " [25]\n",
      " [ 0]]\n",
      "[[ 0]\n",
      " [14]\n",
      " [24]]\n",
      "[[17]\n",
      " [ 4]\n",
      " [12]]\n",
      "[[ 9]\n",
      " [ 8]\n",
      " [19]]\n",
      "[[ 3]\n",
      " [16]\n",
      " [ 8]]\n",
      "[[ 6]\n",
      " [11]\n",
      " [16]]\n",
      "[[ 6]\n",
      " [14]\n",
      " [ 6]]\n",
      "[[ 6]\n",
      " [24]\n",
      " [ 3]]\n",
      "0\n"
     ]
    }
   ],
   "source": [
    "print(Verschluesselung2('das auto des praktikanten ist das groesste.', Alphabet))  # Beispiel 3 Veschluesselung2, kann keine \n",
    "                                                                                   # Sonderbuchstaben enthalten"
   ]
  }
 ],
 "metadata": {
  "kernelspec": {
   "display_name": "Python 3",
   "language": "python",
   "name": "python3"
  },
  "language_info": {
   "codemirror_mode": {
    "name": "ipython",
    "version": 3
   },
   "file_extension": ".py",
   "mimetype": "text/x-python",
   "name": "python",
   "nbconvert_exporter": "python",
   "pygments_lexer": "ipython3",
   "version": "3.6.2"
  }
 },
 "nbformat": 4,
 "nbformat_minor": 1
}
