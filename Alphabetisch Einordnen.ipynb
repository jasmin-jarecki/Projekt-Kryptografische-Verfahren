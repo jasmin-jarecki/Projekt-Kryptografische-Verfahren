{
 "cells": [
  {
   "cell_type": "markdown",
   "metadata": {},
   "source": [
    "### Alphabetisch Einordnen"
   ]
  },
  {
   "cell_type": "code",
   "execution_count": 1,
   "metadata": {},
   "outputs": [
    {
     "name": "stdout",
     "output_type": "stream",
     "text": [
      "['a', 'b', 'c', 'd', 'e', 'f', 'g', 'h', 'i', 'j', 'k', 'l', 'm', 'n', 'o', 'p', 'q', 'r', 's', 't', 'u', 'v', 'w', 'x', 'y', 'z', 'ä', 'ö', 'ü', 'ß', 'A', 'B', 'C', 'D', 'E', 'F', 'G', 'H', 'I', 'J', 'K', 'L', 'M', 'N', 'O', 'P', 'Q', 'R', 'S', 'T', 'U', 'V', 'W', 'X', 'Y', 'Z', 'Ä', 'Ö', 'Ü']\n"
     ]
    }
   ],
   "source": [
    "A = 'abcdefghijklmnopqrstuvwxyzäöüßABCDEFGHIJKLMNOPQRSTUVWXYZÄÖÜ' # Erstellen der Liste aus den Zeichen des Alphabets\n",
    "\n",
    "Alphabet= []\n",
    "\n",
    "for a in A:\n",
    "    Alphabet.append(a)\n",
    "    \n",
    "print(Alphabet)"
   ]
  },
  {
   "cell_type": "code",
   "execution_count": 2,
   "metadata": {},
   "outputs": [
    {
     "name": "stdout",
     "output_type": "stream",
     "text": [
      "['D', 'a', 's', ' ', 'A', 'u', 't', 'o', ' ', 'd', 'e', 's', ' ', 'P', 'r', 'a', 'k', 't', 'i', 'k', 'a', 'n', 't', 'e', 'n', ' ', 'i', 's', 't', ' ', 'd', 'a', 's', ' ', 'g', 'r', 'o', 'e', 's', 's', 't', 'e', '.']\n"
     ]
    }
   ],
   "source": [
    "E = 'Das Auto des Praktikanten ist das groesste.' # Eingabe des zu verschlüsselnden Ausdrucks\n",
    "\n",
    "    \n",
    "K = []                                            # Umwandeln der Eingabe in eine Liste K\n",
    "\n",
    "for e in E:\n",
    "    K.append(e)\n",
    "    \n",
    "print(K)\n"
   ]
  },
  {
   "cell_type": "code",
   "execution_count": 3,
   "metadata": {},
   "outputs": [
    {
     "name": "stdout",
     "output_type": "stream",
     "text": [
      "['D', 'a', 's', 'A', 'u', 't', 'o', 'd', 'e', 's', 'P', 'r', 'a', 'k', 't', 'i', 'k', 'a', 'n', 't', 'e', 'n', 'i', 's', 't', 'd', 'a', 's', 'g', 'r', 'o', 'e', 's', 's', 't', 'e']\n"
     ]
    }
   ],
   "source": [
    "K2 = []                                           # Aussortieren der nicht im Alphabet vorkommenden Zeichen, neue Liste K2\n",
    "\n",
    "for k in K:\n",
    "    if k in Alphabet:\n",
    "        K2.append(k)\n",
    "\n",
    "print(K2)"
   ]
  },
  {
   "cell_type": "code",
   "execution_count": 4,
   "metadata": {},
   "outputs": [
    {
     "name": "stdout",
     "output_type": "stream",
     "text": [
      "['A', 'D', 'P', 'a', 'a', 'a', 'a', 'd', 'd', 'e', 'e', 'e', 'e', 'g', 'i', 'i', 'k', 'k', 'n', 'n', 'o', 'o', 'r', 'r', 's', 's', 's', 's', 's', 's', 't', 't', 't', 't', 't', 'u']\n"
     ]
    }
   ],
   "source": [
    "K2.sort()                                         # Sortieren der Verschlüsselten Eingabe\n",
    "print(K2)"
   ]
  },
  {
   "cell_type": "code",
   "execution_count": 5,
   "metadata": {
    "scrolled": true
   },
   "outputs": [
    {
     "name": "stdout",
     "output_type": "stream",
     "text": [
      "['A', 'D', 'P', ' ', 'a', 'a', 'a', 'a', ' ', 'd', 'd', 'e', ' ', 'e', 'e', 'e', 'g', 'i', 'i', 'k', 'k', 'n', 'n', 'o', 'o', ' ', 'r', 'r', 's', ' ', 's', 's', 's', ' ', 's', 's', 't', 't', 't', 't', 't', 'u', '.']\n"
     ]
    }
   ],
   "source": [
    "K3= []                                            # Hinzufügen der Leer- und Sonderzeichen, wie sie im ursprünglichen Text K \n",
    "                                                  # waren\n",
    "n=0                                               \n",
    "for i in range(len(K)):                           # jedem Element in K wird ein Index i zugeordnet\n",
    "    \n",
    "    if K[i] in Alphabet:                          # wenn das i-te Element von K im Alphabet ist, wird das n-te Element von K2 zur \n",
    "                                                  # neuen Liste K3 hinzugefügt\n",
    "        K3.append(K2[n])\n",
    "        n=n+1\n",
    "    else:\n",
    "        K3.append(K[i])                           # andernfalls wird das n-te Element von K, also die Leer- und Sonderzeichen, \n",
    "                                                  # zu K3 hinzugefügt\n",
    "print(K3)\n",
    "        "
   ]
  },
  {
   "cell_type": "code",
   "execution_count": 6,
   "metadata": {
    "collapsed": true
   },
   "outputs": [],
   "source": [
    "def Verschluesselung(Text, Alphabet):             # Verschlüsselungsfunktion Alphabetisch Einordnen\n",
    "\n",
    "    K = []                                            \n",
    "\n",
    "    for e in Text:                                # Die einzelnen Zeichen (Buchstaben, Leer- und Satzzeichen) des Eingabetextes \n",
    "        K.append(e)                               # werden zu Liste K hinzugefügt\n",
    "        \n",
    "    K2 = []                                           \n",
    "    for k in K:                                   # Die Buchstaben aus K werden in eine zweite Liste K2 kopiert\n",
    "        if k in Alphabet:\n",
    "            K2.append(k)\n",
    "    \n",
    "    K2.sort()                                     # Die Elemente von K2 werden in alphabetische Reihenfolge gebracht\n",
    "    \n",
    "    K3= []                                            \n",
    "                                                  \n",
    "    n=0                                               \n",
    "    for i in range(len(K)):                       # In der Liste K3 werden die Leer- und Satzzeichen an den ursprünglichen     \n",
    "                                                  # Stellen hinzugefügt.\n",
    "        if K[i] in Alphabet:                          \n",
    "            K3.append(K2[n])\n",
    "            n=n+1\n",
    "        else:\n",
    "            K3.append(K[i]) \n",
    "            \n",
    "    return ''.join(K3)"
   ]
  },
  {
   "cell_type": "code",
   "execution_count": 7,
   "metadata": {},
   "outputs": [
    {
     "name": "stdout",
     "output_type": "stream",
     "text": [
      "AVac ddeeeg hill lnnoo ss!\n"
     ]
    }
   ],
   "source": [
    "print(Verschluesselung('Alle Voegel sind schon da!', Alphabet))  # Beispiel 1 zur Verschlüsselung"
   ]
  },
  {
   "cell_type": "code",
   "execution_count": 8,
   "metadata": {
    "collapsed": true
   },
   "outputs": [],
   "source": [
    "text1 = 'Fuchs, du hast die Gans gestohlen, gib sie wieder her.'"
   ]
  },
  {
   "cell_type": "code",
   "execution_count": 9,
   "metadata": {},
   "outputs": [
    {
     "name": "stdout",
     "output_type": "stream",
     "text": [
      "FGaab, cd ddee eee eegg hhhhiiiil, nno rrs sssstt uuw.\n"
     ]
    }
   ],
   "source": [
    "print(Verschluesselung(text1, Alphabet))                         # Beispiel 2 zur Verschlüsselung"
   ]
  },
  {
   "cell_type": "code",
   "execution_count": 12,
   "metadata": {},
   "outputs": [
    {
     "name": "stdout",
     "output_type": "stream",
     "text": [
      "DOP aadeeee fgi iik nrrrst tzzßö.\n"
     ]
    }
   ],
   "source": [
    "text2 = 'Der Pazifik ist der größte Ozean.'                      # Beispiel 3 mit Umlauten und ß\n",
    "print(Verschluesselung(text2, Alphabet))"
   ]
  }
 ],
 "metadata": {
  "kernelspec": {
   "display_name": "Python 3",
   "language": "python",
   "name": "python3"
  },
  "language_info": {
   "codemirror_mode": {
    "name": "ipython",
    "version": 3
   },
   "file_extension": ".py",
   "mimetype": "text/x-python",
   "name": "python",
   "nbconvert_exporter": "python",
   "pygments_lexer": "ipython3",
   "version": "3.6.2"
  }
 },
 "nbformat": 4,
 "nbformat_minor": 2
}
