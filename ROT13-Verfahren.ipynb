{
 "cells": [
  {
   "cell_type": "markdown",
   "metadata": {},
   "source": [
    "### Rot13 Verfahren"
   ]
  },
  {
   "cell_type": "code",
   "execution_count": 1,
   "metadata": {},
   "outputs": [
    {
     "name": "stdout",
     "output_type": "stream",
     "text": [
      "{'a': 'n', 'b': 'o', 'c': 'p', 'd': 'q', 'e': 'r', 'f': 's', 'g': 't', 'h': 'u', 'i': 'v', 'j': 'w', 'k': 'x', 'l': 'y', 'm': 'z', 'n': 'A', 'o': 'B', 'p': 'C', 'q': 'D', 'r': 'E', 's': 'F', 't': 'G', 'u': 'H', 'v': 'I', 'w': 'J', 'x': 'K', 'y': 'L', 'z': 'M', 'A': 'N', 'B': 'O', 'C': 'P', 'D': 'Q', 'E': 'R', 'F': 'S', 'G': 'T', 'H': 'U', 'I': 'V', 'J': 'W', 'K': 'X', 'L': 'Y', 'M': 'Z', 'N': 'ẞ', 'O': 'ß', 'P': 'Ä', 'Q': 'Ü', 'R': 'Ö', 'S': 'ä', 'T': 'ö', 'U': 'ü', 'V': ',', 'W': '.', 'X': ':', 'Y': '?', 'Z': '!', 'ẞ': ' ', 'ß': '\"', 'Ä': '1', 'Ü': '2', 'Ö': '3', 'ä': '4', 'ö': '5', 'ü': '6', ',': '7', '.': '8', ':': '9', '?': '0', '!': 'a', ' ': 'b', '\"': 'c', '1': 'd', '2': 'e', '3': 'f', '4': 'g', '5': 'h', '6': 'i', '7': 'j', '8': 'k', '9': 'l', '0': 'm'} {'a': '!', 'b': ' ', 'c': '\"', 'd': '1', 'e': '2', 'f': '3', 'g': '4', 'h': '5', 'i': '6', 'j': '7', 'k': '8', 'l': '9', 'm': '0', 'n': 'a', 'o': 'b', 'p': 'c', 'q': 'd', 'r': 'e', 's': 'f', 't': 'g', 'u': 'h', 'v': 'i', 'w': 'j', 'x': 'k', 'y': 'l', 'z': 'm', 'A': 'n', 'B': 'o', 'C': 'p', 'D': 'q', 'E': 'r', 'F': 's', 'G': 't', 'H': 'u', 'I': 'v', 'J': 'w', 'K': 'x', 'L': 'y', 'M': 'z', 'N': 'A', 'O': 'B', 'P': 'C', 'Q': 'D', 'R': 'E', 'S': 'F', 'T': 'G', 'U': 'H', 'V': 'I', 'W': 'J', 'X': 'K', 'Y': 'L', 'Z': 'M', 'ẞ': 'N', 'ß': 'O', 'Ä': 'P', 'Ü': 'Q', 'Ö': 'R', 'ä': 'S', 'ö': 'T', 'ü': 'U', ',': 'V', '.': 'W', ':': 'X', '?': 'Y', '!': 'Z', ' ': 'ẞ', '\"': 'ß', '1': 'Ä', '2': 'Ü', '3': 'Ö', '4': 'ä', '5': 'ö', '6': 'ü', '7': ',', '8': '.', '9': ':', '0': '?'}\n"
     ]
    }
   ],
   "source": [
    "Alphabet = u'abcdefghijklmnopqrstuvwxyzABCDEFGHIJKLMNOPQRSTUVWXYZẞßÄÜÖäöü,.:?! \"1234567890'#Definition des benutzten Alphabets\n",
    "D_ver=dict()                                                                   # Anlegen eines Dictionaries zum Verschlüsseln \n",
    "D_ent=dict()                                                                   # Dictionaries zum Entschlüsseln\n",
    "n=len(Alphabet)\n",
    "for i in range(n):\n",
    "    D_ver[str(Alphabet[i])]=str(Alphabet[(i+13)%n]) # das i-te Element von Alphabet wird durch das i+13-te Element ersetzt\n",
    "    D_ent[str(Alphabet[i])]=str(Alphabet[(i-13)%n]) # das i-te Element von Alphabet wird durch das i-13-te Element ersetzt\n",
    "\n",
    "print(D_ver, D_ent)"
   ]
  },
  {
   "cell_type": "code",
   "execution_count": 2,
   "metadata": {},
   "outputs": [
    {
     "name": "stdout",
     "output_type": "stream",
     "text": [
      "G\n",
      "t\n"
     ]
    }
   ],
   "source": [
    "print(D_ver['t']) # Beispiele Funktion der Dictionaries \n",
    "print(D_ent['G'])"
   ]
  },
  {
   "cell_type": "code",
   "execution_count": 3,
   "metadata": {},
   "outputs": [
    {
     "name": "stdout",
     "output_type": "stream",
     "text": [
      "H\n",
      "ä\n",
      "l\n",
      "l\n",
      "ö\n",
      " \n",
      "W\n",
      "ö\n",
      "r\n",
      "l\n",
      "d\n",
      "!\n"
     ]
    }
   ],
   "source": [
    "text1 = u'Hällö Wörld!'\n",
    "for x in text1: \n",
    "    print(x)"
   ]
  },
  {
   "cell_type": "code",
   "execution_count": 8,
   "metadata": {
    "collapsed": true
   },
   "outputs": [],
   "source": [
    "def Verschluesselung(Text, Alphabet, Shift=13): # Definition der Verschlüssenungsfunktion mit den Argumenten Text für den zu ver-\n",
    "                                                # schlüsselnden Text, Alphabet für das gewählte Alphabet, Shift=13 dem Schlüssel\n",
    "                                            \n",
    "    D_ver=dict()                                # Dictionary zur Verschlüsselung wie bereits oben\n",
    "    n=len(Alphabet)\n",
    "    for i in range(n):\n",
    "        D_ver[Alphabet[i]]=Alphabet[(i+Shift)%n]\n",
    "    \n",
    "    T = [] \n",
    "\n",
    "    for x in Text:\n",
    "        T.append(D_ver[x])                      # Die Elemente des Textes werden mittels D_ver verschlüsselt zur leeren Liste T\n",
    "                                                # hinzugefügt\n",
    "    \n",
    "    return u''.join(T)                          # Zum Ausgeben von normalem Text, Ausgabeänderung vom Unicode\n"
   ]
  },
  {
   "cell_type": "code",
   "execution_count": 9,
   "metadata": {
    "collapsed": true
   },
   "outputs": [],
   "source": [
    "def Entschluesselung(Text, Alphabet, Shift=13): # Definition der Entschlüsselungsfunktion mithilfe D_ent entsprechend der Ver-\n",
    "                                                # schlüsselungsfunktion; für Text wird der zu entschlüsselnden Text eingefügt\n",
    "    \n",
    "    D_ent=dict()\n",
    "    n=len(Alphabet)\n",
    "    for i in range(n):\n",
    "        D_ent[Alphabet[i]]=Alphabet[(i-Shift)%n]\n",
    "    T = []\n",
    "\n",
    "    for x in Text:\n",
    "        T.append(D_ent[x])\n",
    "    \n",
    "    return u''.join(T)"
   ]
  },
  {
   "cell_type": "code",
   "execution_count": 10,
   "metadata": {
    "collapsed": true
   },
   "outputs": [],
   "source": [
    "text5 = 'Das Projekt behandelt verschiedene kryptografische Verfahren!'"
   ]
  },
  {
   "cell_type": "code",
   "execution_count": 11,
   "metadata": {},
   "outputs": [
    {
     "name": "stdout",
     "output_type": "stream",
     "text": [
      "QnFbÄEBwrxGborunAqryGbIrEFpuvrqrArbxELCGBtEnsvFpurb,rEsnuErAa\n"
     ]
    }
   ],
   "source": [
    "print(Verschluesselung(text5, Alphabet)) # Beispiel 1: Funktion der Veschlüsselung "
   ]
  },
  {
   "cell_type": "code",
   "execution_count": 12,
   "metadata": {},
   "outputs": [
    {
     "name": "stdout",
     "output_type": "stream",
     "text": [
      "U4yy5b.5Eyqa\n"
     ]
    }
   ],
   "source": [
    "print(Verschluesselung(text1, Alphabet)) # Beispiel 2: Funktion der Verschlüsselung"
   ]
  },
  {
   "cell_type": "code",
   "execution_count": 13,
   "metadata": {
    "collapsed": true
   },
   "outputs": [],
   "source": [
    "T = []                                   # Beispiel 2: die Verschlüsselung wird zu einem String text2 gemacht\n",
    "\n",
    "for x in text1:\n",
    "    T.append(D_ver[x])\n",
    "    \n",
    "text2 = u''.join(T)"
   ]
  },
  {
   "cell_type": "code",
   "execution_count": 14,
   "metadata": {},
   "outputs": [
    {
     "name": "stdout",
     "output_type": "stream",
     "text": [
      "U4yy5b.5Eyqa\n"
     ]
    }
   ],
   "source": [
    "print(text2)                             "
   ]
  },
  {
   "cell_type": "code",
   "execution_count": 15,
   "metadata": {},
   "outputs": [
    {
     "name": "stdout",
     "output_type": "stream",
     "text": [
      "Hällö Wörld!\n"
     ]
    }
   ],
   "source": [
    "print(Entschluesselung(text2, Alphabet)) # Beispiel 2: Funktion der Entschlüsselung "
   ]
  },
  {
   "cell_type": "code",
   "execution_count": 16,
   "metadata": {},
   "outputs": [
    {
     "name": "stdout",
     "output_type": "stream",
     "text": [
      "QrEbUHAqboryyGbynHGrEbnyFbqvrbXnGMrbzvnHG8\n"
     ]
    }
   ],
   "source": [
    "print(Verschluesselung('Der Hund bellt lauter als die Katze miaut.', Alphabet)) # Beispiel 3 zur Verschlüsselung mit direkter \n",
    "                                                                                # Eingabe des Textes"
   ]
  },
  {
   "cell_type": "code",
   "execution_count": 17,
   "metadata": {},
   "outputs": [
    {
     "name": "stdout",
     "output_type": "stream",
     "text": [
      "Der Hund bellt lauter als die Katze miaut.\n"
     ]
    }
   ],
   "source": [
    "print(Entschluesselung('QrEbUHAqboryyGbynHGrEbnyFbqvrbXnGMrbzvnHG8', Alphabet)) # Beispiel 3 zur Entschlüsselung mit direkter \n",
    "                                                                                # Eingabe des verschlüsselten Textes"
   ]
  },
  {
   "cell_type": "code",
   "execution_count": 18,
   "metadata": {},
   "outputs": [
    {
     "name": "stdout",
     "output_type": "stream",
     "text": [
      ",vrybäCn\"a\n"
     ]
    }
   ],
   "source": [
    "text4 = u'Viel Spaß!'                                                            # Beispiel 4 zur Verschlüsselung mit \"ß\"\n",
    "print(Verschluesselung(text4, Alphabet))"
   ]
  },
  {
   "cell_type": "code",
   "execution_count": 19,
   "metadata": {},
   "outputs": [
    {
     "name": "stdout",
     "output_type": "stream",
     "text": [
      "Viel Spaß!\n"
     ]
    }
   ],
   "source": [
    "print(Entschluesselung(u',vrybäCn\"a', Alphabet))                                # Beispiel 4 zur Entschlüsselung mit \"ß\""
   ]
  }
 ],
 "metadata": {
  "kernelspec": {
   "display_name": "Python 3",
   "language": "python",
   "name": "python3"
  },
  "language_info": {
   "codemirror_mode": {
    "name": "ipython",
    "version": 3
   },
   "file_extension": ".py",
   "mimetype": "text/x-python",
   "name": "python",
   "nbconvert_exporter": "python",
   "pygments_lexer": "ipython3",
   "version": "3.6.2"
  }
 },
 "nbformat": 4,
 "nbformat_minor": 2
}
