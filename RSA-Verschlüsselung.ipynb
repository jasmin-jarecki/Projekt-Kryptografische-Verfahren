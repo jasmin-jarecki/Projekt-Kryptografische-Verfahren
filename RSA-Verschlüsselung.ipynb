{
 "cells": [
  {
   "cell_type": "markdown",
   "metadata": {},
   "source": [
    "### RSA-Verschlüsselung\n",
    "\n",
    "Der öﬀentliche Schlüssel (oder public key) ist öﬀentlich sichtbar und der geheime Schlüssel (oder\n",
    "private key) ist geschützt. Nachrichten, die mit dem öﬀentlichen Schlüssel verschlüsselt werden,\n",
    "können nur durch den geheimen Schlüssel entschlüsselt werden.<br>\n",
    "Der öﬀentliche Schlüssel (N, e) und der geheime Schlüssel (N, d) werden durch das folgende\n",
    "Verfahren erzeugt:<br>\n",
    "(1) Wähle zufällig zwei Primzahlen p und q. <br>\n",
    "(2) Berechne den N = p·q <br>\n",
    "(3) Berechne die Eulersche ϕ-Funktion von N : ϕ(N) = (p−1)·(q−1) <br>\n",
    "(4) Wähle eine Ganzzahl e, für die gilt 1 < e < ϕ(N) und der Größte gemeinsame Teiler von\n",
    "e und ϕ(N): gcd(e,ϕ(N)) = 1.<br>\n",
    "(5) Berechne den Entschlüsselungsexponenten d. Es soll also die folgende Bedingung gelten: e·d ≡ 1 (mod ϕ(N)) <br>\n",
    "Um ein Nachricht zu verschlüsseln, z.B. die Nummer 123, wir berechnen mithilfe von dem öﬀentlicher Schlüssel (N = 3233,e = 17): c = 123e mod N = 855, und um den Nummer 855 zu entschlüsseln, wir berechnen mithilfe von dem öﬀentlicher Schlüssel\n",
    "(N = 3233,d = 2753): m = 855d mod N = 123<br>\n",
    "Implementieren Sie den RSA-Algorithmus und verschlüsseln Sie eine Nachricht.<br>\n",
    "Gegeben werden zwei Primzahlen p = 1447 und q = 3917, N = 5667899, e = 108125 und\n",
    "d = 1364717. Was ist die verschlüsselte Nummer hinter ‘5157648’?<br>\n",
    "Das Ergebnis summiert mit der zweistellige Zahl von Aufgabe 2 ergibt ‘The answer to life, the\n",
    "universe and everything’."
   ]
  },
  {
   "cell_type": "markdown",
   "metadata": {},
   "source": [
    "#### Erzeugung des Schlüssels"
   ]
  },
  {
   "cell_type": "code",
   "execution_count": 2,
   "metadata": {
    "collapsed": true
   },
   "outputs": [],
   "source": [
    "# Schritt 1\n",
    "p = 1447                                         # Primzahlen p und q\n",
    "q = 3917"
   ]
  },
  {
   "cell_type": "code",
   "execution_count": 3,
   "metadata": {},
   "outputs": [
    {
     "name": "stdout",
     "output_type": "stream",
     "text": [
      "5667899\n"
     ]
    }
   ],
   "source": [
    "# Schritt 2\n",
    "\n",
    "N = p * q                                        # Berechnung N\n",
    "\n",
    "print(N)"
   ]
  },
  {
   "cell_type": "code",
   "execution_count": 4,
   "metadata": {
    "collapsed": true
   },
   "outputs": [],
   "source": [
    "def Phi(p,q):                       # Eulersche Phi-Funktion von N mit Argumenten p und q entsprechend der gewählten Primzahlen\n",
    "    \n",
    "    phi = (p-1) * (q-1)\n",
    "    \n",
    "    return phi"
   ]
  },
  {
   "cell_type": "code",
   "execution_count": 5,
   "metadata": {},
   "outputs": [
    {
     "name": "stdout",
     "output_type": "stream",
     "text": [
      "5662536\n"
     ]
    }
   ],
   "source": [
    "# Schritt 3                                     # Berechnung Phi(N)\n",
    "\n",
    "print(Phi(1447, 3917))"
   ]
  },
  {
   "cell_type": "code",
   "execution_count": 6,
   "metadata": {
    "collapsed": true
   },
   "outputs": [],
   "source": [
    "# Schritt 4\n",
    "\n",
    "# gesucht ist e, für das gilt: 1 < e < phi(N) und GGT(e, phi(N)) = 1\n",
    "\n",
    "def publickey(phiN, z):                       # Definition für Erzeugung von e, Argumente Phi(N) und z: beliebige Zahl [2,Phi(N)]\n",
    "    \n",
    "    ggT = 2 \n",
    "        \n",
    "    for i in range(z, phiN):                 # e muss aus dem Intervall [2, phi(N)] sein, z muss also min. 2 sein\n",
    "            \n",
    "        r1 = 1\n",
    "        L = []\n",
    "        r0 = i\n",
    "        a = phiN\n",
    "            \n",
    "        while r1 != 0:                       # größter gemeinsamer Teiler von i und Phi(N) wird ermittelt nach Euklidischen\n",
    "            r1 = a % r0                      # Algorithmus\n",
    "                \n",
    "            L.append(r0)\n",
    "                \n",
    "            a = r0\n",
    "            r0 = r1\n",
    "                \n",
    "        ggT = L[-1]\n",
    "        if ggT == 1:                        # ist ggT = 1, wird die Schleife abgebrochen, das aktuelle i ist das gesuchte e\n",
    "                                            \n",
    "            break\n",
    "            \n",
    "    return i                                # Ausgabe i als e\n",
    "    \n",
    "    "
   ]
  },
  {
   "cell_type": "code",
   "execution_count": 7,
   "metadata": {
    "collapsed": true
   },
   "outputs": [],
   "source": [
    "# Schritt 5\n",
    "# privater Schlüssel d"
   ]
  },
  {
   "cell_type": "markdown",
   "metadata": {},
   "source": [
    "#### Ver- und Entschlüsselung"
   ]
  },
  {
   "cell_type": "code",
   "execution_count": 8,
   "metadata": {
    "collapsed": true
   },
   "outputs": [],
   "source": [
    "def Verschluesselung(x, e, N):              # Definition RSA-Verschlüsselung nach vorausgesetzten Bedingungen\n",
    "    \n",
    "    c = (x**e) % N\n",
    "    return c"
   ]
  },
  {
   "cell_type": "code",
   "execution_count": 9,
   "metadata": {},
   "outputs": [
    {
     "name": "stdout",
     "output_type": "stream",
     "text": [
      "855\n"
     ]
    }
   ],
   "source": [
    "print(Verschluesselung(123, 17, 3233))      # Beispiel Verschlüsselung"
   ]
  },
  {
   "cell_type": "code",
   "execution_count": 10,
   "metadata": {
    "collapsed": true
   },
   "outputs": [],
   "source": [
    "def Entschluesselung (c, d, N):             # Definition RSA-Entschlüsselung bei Kenntniss privaten Schlüssels d\n",
    "    \n",
    "    m = (c**d) % N\n",
    "    return m"
   ]
  },
  {
   "cell_type": "code",
   "execution_count": 11,
   "metadata": {},
   "outputs": [
    {
     "name": "stdout",
     "output_type": "stream",
     "text": [
      "123\n"
     ]
    }
   ],
   "source": [
    "print(Entschluesselung(855, 2753, 3233))    # Beispiel Entschlüsselung"
   ]
  },
  {
   "cell_type": "code",
   "execution_count": 12,
   "metadata": {},
   "outputs": [
    {
     "name": "stdout",
     "output_type": "stream",
     "text": [
      "123\n"
     ]
    }
   ],
   "source": [
    "print(Entschluesselung(Verschluesselung(123, 17, 3233), 2753, 3233))   # Beispiel 2 Ver- und Entschlüsselung"
   ]
  },
  {
   "cell_type": "code",
   "execution_count": 13,
   "metadata": {},
   "outputs": [
    {
     "name": "stdout",
     "output_type": "stream",
     "text": [
      "14\n"
     ]
    }
   ],
   "source": [
    "print(Entschluesselung(5157648, 1364717, 5667899))    # Lösung Frage am Ende des Blattes"
   ]
  }
 ],
 "metadata": {
  "kernelspec": {
   "display_name": "Python 3",
   "language": "python",
   "name": "python3"
  },
  "language_info": {
   "codemirror_mode": {
    "name": "ipython",
    "version": 3
   },
   "file_extension": ".py",
   "mimetype": "text/x-python",
   "name": "python",
   "nbconvert_exporter": "python",
   "pygments_lexer": "ipython3",
   "version": "3.6.2"
  }
 },
 "nbformat": 4,
 "nbformat_minor": 2
}
